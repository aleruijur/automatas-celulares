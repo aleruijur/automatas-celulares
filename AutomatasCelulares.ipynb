{
  "nbformat": 4,
  "nbformat_minor": 0,
  "metadata": {
    "colab": {
      "name": "AutomatasCelulares.ipynb",
      "provenance": [],
      "collapsed_sections": []
    },
    "kernelspec": {
      "name": "python3",
      "display_name": "Python 3"
    },
    "language_info": {
      "name": "python"
    }
  },
  "cells": [
    {
      "cell_type": "code",
      "metadata": {
        "id": "ngXWgNu2YM6i",
        "colab": {
          "base_uri": "https://localhost:8080/"
        },
        "outputId": "85fac6aa-dcab-4ff9-8480-d98f5af2a694"
      },
      "source": [
        "!pip install geneticalgorithm"
      ],
      "execution_count": 158,
      "outputs": [
        {
          "output_type": "stream",
          "text": [
            "Requirement already satisfied: geneticalgorithm in /usr/local/lib/python3.7/dist-packages (1.0.2)\n",
            "Requirement already satisfied: func-timeout in /usr/local/lib/python3.7/dist-packages (from geneticalgorithm) (4.3.5)\n",
            "Requirement already satisfied: numpy in /usr/local/lib/python3.7/dist-packages (from geneticalgorithm) (1.19.5)\n"
          ],
          "name": "stdout"
        }
      ]
    },
    {
      "cell_type": "code",
      "metadata": {
        "id": "bKoFdL69V0fi"
      },
      "source": [
        "from geneticalgorithm import geneticalgorithm as ga\n",
        "\n",
        "import numpy as np\n",
        "np.random.seed(43958734)"
      ],
      "execution_count": 159,
      "outputs": []
    },
    {
      "cell_type": "code",
      "metadata": {
        "id": "5QbSwApE8Y0y"
      },
      "source": [
        "#Este método realiza un iteración de un autómata celular unidimensional a una CI según la regla dada\n",
        "def iteracionAutomataUnidimensional(CI,rule):\n",
        "  next = list()\n",
        "  for i in range(len(CI)):\n",
        "    c = CI[i]\n",
        "    if i==len(CI)-1:\n",
        "      vd = CI[0]\n",
        "    else: \n",
        "      vd = CI[i+1]\n",
        "    if i==0:\n",
        "      vi = CI[len(CI)-1]\n",
        "    else: \n",
        "      vi = CI[i-1]\n",
        "\n",
        "    #Con el siguiente bloque if sacamos cuál será el valor de c en el siguiente paso según la regla\n",
        "    if vi==1 and c==1 and vd==1:\n",
        "      next.append(rule[0])\n",
        "    elif vi==1 and c==1 and vd==0:\n",
        "      next.append(rule[1])\n",
        "    elif vi==1 and c==0 and vd==1:\n",
        "      next.append(rule[2])\n",
        "    elif vi==1 and c==0 and vd==0:\n",
        "      next.append(rule[3])\n",
        "    elif vi==0 and c==1 and vd==1:\n",
        "      next.append(rule[4])\n",
        "    elif vi==0 and c==1 and vd==0:\n",
        "      next.append(rule[5])\n",
        "    elif vi==0 and c==0 and vd==1:\n",
        "      next.append(rule[6])\n",
        "    elif vi==0 and c==0 and vd==0:\n",
        "      next.append(rule[7])\n",
        "\n",
        "  return next"
      ],
      "execution_count": 160,
      "outputs": []
    },
    {
      "cell_type": "code",
      "metadata": {
        "id": "7DWxIKopIwGt"
      },
      "source": [
        "#Este método realiza un iteración de un autómata celular bidimensional a una CI según la regla dada como [3,3,2,4] -> B3S24\n",
        "def iteracionAutomataBidimensional(CI,rule):\n",
        "  next = list()\n",
        "  nRows = len(CI)\n",
        "  nCols = len(CI[0])\n",
        "\n",
        "  for i in range(nRows):\n",
        "    newRow = list()\n",
        "    for j in range(nCols):\n",
        "      c = CI[i][j]\n",
        "\n",
        "      if j==0:#Células del borde izquierdo\n",
        "        v3 = CI[i][nCols-1]\n",
        "        v4 = CI[i][j+1]\n",
        "        if i==0:#Célula de la izquierda-arriba\n",
        "          v0 = CI[nRows-1][nCols-1]\n",
        "          v1 = CI[nRows-1][j]\n",
        "          v2 = CI[nRows-1][j+1]\n",
        "          v5 = CI[i+1][nCols-1]\n",
        "          v6 = CI[i+1][j]\n",
        "          v7 = CI[i+1][j+1]\n",
        "        elif i==nRows-1:#Célula de la izquierda-abajo\n",
        "          v0 = CI[i-1][nCols-1]\n",
        "          v1 = CI[i-1][j]\n",
        "          v2 = CI[i-1][j+1]\n",
        "          v5 = CI[0][nCols-1]\n",
        "          v6 = CI[0][j]\n",
        "          v7 = CI[0][j+1]\n",
        "        else:\n",
        "          v0 = CI[i-1][nCols-1]\n",
        "          v1 = CI[i-1][j]\n",
        "          v2 = CI[i-1][j+1]\n",
        "          v5 = CI[i+1][nCols-1]\n",
        "          v6 = CI[i+1][j]\n",
        "          v7 = CI[i+1][j+1]\n",
        "      elif j==nCols-1:#Células del borde derecho\n",
        "        v3 = CI[i][j-1]\n",
        "        v4 = CI[i][0]\n",
        "        if i==0:#Célula de la derecha-arriba\n",
        "          v0 = CI[nRows-1][j-1]\n",
        "          v1 = CI[nRows-1][j]\n",
        "          v2 = CI[nRows-1][0]\n",
        "          v5 = CI[i+1][j-1]\n",
        "          v6 = CI[i+1][j]\n",
        "          v7 = CI[i+1][0]\n",
        "        elif i==nRows-1:#Célula de la derecha-abajo\n",
        "          v0 = CI[i-1][j-1]\n",
        "          v1 = CI[i-1][j]\n",
        "          v2 = CI[i-1][0]\n",
        "          v5 = CI[0][j-1]\n",
        "          v6 = CI[0][j]\n",
        "          v7 = CI[0][0]\n",
        "        else:\n",
        "          v0 = CI[nRows-1][j-1]\n",
        "          v1 = CI[nRows-1][j]\n",
        "          v2 = CI[nRows-1][0]\n",
        "          v5 = CI[i+1][j-1]\n",
        "          v6 = CI[i+1][j]\n",
        "          v7 = CI[i+1][0]\n",
        "      elif i==0:#Células del borde superior\n",
        "        v0 = CI[nRows-1][j-1]\n",
        "        v1 = CI[nRows-1][j]\n",
        "        v2 = CI[nRows-1][j+1]\n",
        "        v3 = CI[i][j-1]\n",
        "        v4 = CI[i][j+1]\n",
        "        v5 = CI[i+1][j-1]\n",
        "        v6 = CI[i+1][j]\n",
        "        v7 = CI[i+1][j+1]\n",
        "      elif i==nRows-1:#Células del borde inferior\n",
        "        v0 = CI[i-1][j-1]\n",
        "        v1 = CI[i-1][j]\n",
        "        v2 = CI[i-1][j+1]\n",
        "        v3 = CI[i][j-1]\n",
        "        v4 = CI[i][j+1]\n",
        "        v5 = CI[0][j-1]\n",
        "        v6 = CI[0][j]\n",
        "        v7 = CI[0][j+1]\n",
        "      else:#Células que no están en los bordes\n",
        "        v0 = CI[i-1][j-1]\n",
        "        v1 = CI[i-1][j]\n",
        "        v2 = CI[i-1][j+1]\n",
        "        v3 = CI[i][j-1]\n",
        "        v4 = CI[i][j+1]\n",
        "        v5 = CI[i+1][j-1]\n",
        "        v6 = CI[i+1][j]\n",
        "        v7 = CI[i+1][j+1]\n",
        "\n",
        "      num1s = v0 + v1 + v2 + v3 + v4 + v5 + v6 + v7\n",
        "\n",
        "      #Con el siguiente bloque if sacamos cuál será el valor de c en el siguiente paso según la regla\n",
        "      if c==0 and (num1s>=rule[0] and num1s<=rule[1]):#Nace\n",
        "        newRow.append(1)\n",
        "      elif c==1 and (num1s>=rule[2] and num1s<=rule[3]):#Sobrevive\n",
        "        newRow.append(1)\n",
        "      else:\n",
        "        newRow.append(0)\n",
        "    next.append(newRow)\n",
        "  return next"
      ],
      "execution_count": 161,
      "outputs": []
    },
    {
      "cell_type": "code",
      "metadata": {
        "id": "KcH61cppoyRK"
      },
      "source": [
        "#Este método genera un número de CIs aleatoriamente para autómatas unidimensionales\n",
        "def generarCIs(num):\n",
        "  CIs = []\n",
        "  for i in range(num):\n",
        "    n = np.random.randint(10,30)\n",
        "    CI = np.random.randint(0,2,size=n)\n",
        "    CIs.append(CI)\n",
        "  return CIs"
      ],
      "execution_count": 162,
      "outputs": []
    },
    {
      "cell_type": "code",
      "metadata": {
        "id": "O1jZ0wniaL64"
      },
      "source": [
        "#Este método genera un número de CIs aleatoriamente para autómatas bidimensionales\n",
        "def generarCIs2D(num):\n",
        "  CIs = []\n",
        "  for i in range(num):\n",
        "    n = np.random.randint(10,30)\n",
        "    m = np.random.randint(10,30)\n",
        "    CI = np.random.randint(0,2,size=(n,m))\n",
        "    CIs.append(CI)\n",
        "  return CIs"
      ],
      "execution_count": 163,
      "outputs": []
    },
    {
      "cell_type": "code",
      "metadata": {
        "id": "DjK_gYYdYuDB"
      },
      "source": [
        "#-----------------------------------------------Ejercicio 1------------------------------------------------------\n",
        "#Con esta función obtenemos el valor p, el cual es el porcentaje de 1s de la configuración inicial\n",
        "def porcentaje1s(CI):\n",
        "  ones=0\n",
        "  for c in CI:\n",
        "    if c==1:\n",
        "      ones = ones+1\n",
        "  p = ones/len(CI)\n",
        "  return p"
      ],
      "execution_count": 164,
      "outputs": []
    },
    {
      "cell_type": "code",
      "metadata": {
        "id": "QNmM26mhp-fm"
      },
      "source": [
        "#Con este método aplicamos una regla a una configuración inicial un máximo de Tmax veces, si se llega al objetivo se devuelve True\n",
        "def llegarObjEj1(CI,rule):\n",
        "  Tmax = 15 #Máximo número de iteraciones\n",
        "  pInicial = porcentaje1s(CI)\n",
        "  #print(\"Configuración inicial: {0}\".format(CI))\n",
        " \n",
        "  for t in range(Tmax):\n",
        "    next = iteracionAutomataUnidimensional(CI,rule)\n",
        "\n",
        "    #print(\"Iteración {0}: {1}\".format(t,next))\n",
        "    p = porcentaje1s(next)\n",
        "    if (pInicial < 0.5 and p==0) or (pInicial > 0.5 and p==1) or (pInicial==0.5 and (p==0 or p==1)): #Comprobamos si se cumple el objetivo\n",
        "      #print(\"Configuración objetivo: todo a {0}s en {1} paso(s)\".format(int(p),t+1))\n",
        "      return True\n",
        "    elif np.array_equal(CI,next): #Si se queda estancado en el mismo estado, se para la ejecución\n",
        "      #print(\"No se ha logrado llegar a la configuración objetivo, el automata se queda atascado en el mismo estado\")\n",
        "      return False\n",
        "    else:\n",
        "      CI = next\n",
        "\n",
        "  #print(\"No se ha logrado llegar a la configuración objetivo en {0} paso(s)\".format(Tmax))\n",
        "  return False"
      ],
      "execution_count": 165,
      "outputs": []
    },
    {
      "cell_type": "code",
      "metadata": {
        "id": "BqbsD2SFFmMH"
      },
      "source": [
        "#Este método permite puntuar una regla como el porcentaje de CIs que lleva al objetivo\n",
        "def valorarReglaEj1(rule,CIs):\n",
        "  val = 0\n",
        "  casoRes = -1\n",
        "  bonificación2Casos = False\n",
        "  for CI in CIs:\n",
        "    p = porcentaje1s(CI)\n",
        "    #print(\"P: {0}\".format(p))\n",
        "    if llegarObjEj1(CI,rule):\n",
        "      val = val + 1\n",
        "      if casoRes == -1:\n",
        "        if p<0.5:\n",
        "          casoRes = 0\n",
        "        elif p>0.5:\n",
        "          casoRes = 1\n",
        "      elif not bonificación2Casos and ((p<0.5 and casoRes==1) or (p>0.5 and casoRes==0)):\n",
        "        #print(\"Resuelve ambos casos\")\n",
        "        bonificación2Casos = True\n",
        "  valoración = val/len(CIs)\n",
        "  if bonificación2Casos:\n",
        "    return valoración*4\n",
        "  else:\n",
        "    return valoración"
      ],
      "execution_count": 166,
      "outputs": []
    },
    {
      "cell_type": "code",
      "metadata": {
        "id": "jbDn_Cq_LZdT"
      },
      "source": [
        "def funciónObjetivoEj1(rule):\n",
        "  #print(\"Regla: {0}\".format(rule))\n",
        "  return -valorarReglaEj1(rule,CIs)\n",
        "\n",
        "algorithm_param = {'max_num_iteration': 1,\\\n",
        "                   'population_size':20,\\\n",
        "                   'mutation_probability':0.3,\\\n",
        "                   'elit_ratio': 0.05,\\\n",
        "                   'crossover_probability': 0.5,\\\n",
        "                   'parents_portion': 0.3,\\\n",
        "                   'crossover_type':'uniform',\\\n",
        "                   'max_iteration_without_improv':None}\n",
        "\n",
        "modelEj1=ga(function=funciónObjetivoEj1,dimension=8,variable_type='bool',algorithm_parameters=algorithm_param,progress_bar=False,convergence_curve=False)"
      ],
      "execution_count": 167,
      "outputs": []
    },
    {
      "cell_type": "code",
      "metadata": {
        "colab": {
          "base_uri": "https://localhost:8080/"
        },
        "id": "U8Y6bQsMgguJ",
        "outputId": "5886192f-a988-47e4-e06c-1adce7333b96"
      },
      "source": [
        "for i in range(10):\n",
        "    CIs = generarCIs(100)\n",
        "    modelEj1.run()"
      ],
      "execution_count": 168,
      "outputs": [
        {
          "output_type": "stream",
          "text": [
            "\r The best solution found:\n",
            " [1. 0. 0. 0. 1. 0. 0. 0.]\n",
            "\n",
            " Objective function:\n",
            " -0.51\n",
            " The best solution found:\n",
            " [1. 1. 1. 1. 1. 1. 1. 0.]\n",
            "\n",
            " Objective function:\n",
            " -2.04\n",
            " The best solution found:\n",
            " [1. 1. 1. 1. 1. 0. 1. 0.]\n",
            "\n",
            " Objective function:\n",
            " -0.54\n",
            " The best solution found:\n",
            " [1. 0. 1. 0. 1. 0. 0. 0.]\n",
            "\n",
            " Objective function:\n",
            " -0.6\n",
            " The best solution found:\n",
            " [1. 1. 1. 1. 1. 0. 0. 1.]\n",
            "\n",
            " Objective function:\n",
            " -0.59\n",
            " The best solution found:\n",
            " [0. 0. 1. 1. 0. 1. 1. 1.]\n",
            "\n",
            " Objective function:\n",
            " -0.2\n",
            " The best solution found:\n",
            " [0. 1. 1. 1. 1. 1. 1. 0.]\n",
            "\n",
            " Objective function:\n",
            " -0.6\n",
            " The best solution found:\n",
            " [1. 1. 0. 1. 1. 0. 1. 1.]\n",
            "\n",
            " Objective function:\n",
            " -0.17\n",
            " The best solution found:\n",
            " [1. 1. 1. 0. 1. 1. 1. 0.]\n",
            "\n",
            " Objective function:\n",
            " -0.62\n",
            " The best solution found:\n",
            " [1. 1. 1. 0. 1. 0. 1. 1.]\n",
            "\n",
            " Objective function:\n",
            " -0.54\n"
          ],
          "name": "stdout"
        }
      ]
    },
    {
      "cell_type": "code",
      "metadata": {
        "id": "t7kn_a36lOzj",
        "colab": {
          "base_uri": "https://localhost:8080/"
        },
        "outputId": "d42a01e6-60b6-463b-ec02-651cf720373d"
      },
      "source": [
        "#Mejores reglas encontradas para el Ej1: [0,1,1,1,1,1,1,1], [0,0,0,0,0,1,1,1], [0,1,1,1,1,1,1,0], [0,0,0,1,0,1,0,1], [0,1,1,1,1,0,1,0], [0,1,0,1,0,1,1,1]\n",
        "\n",
        "CIs = generarCIs(100)\n",
        "valorarReglaEj1([0,1,1,1,1,1,1,1],CIs)#Comentar la bonificación al resultado para porcentajes reales"
      ],
      "execution_count": 186,
      "outputs": [
        {
          "output_type": "execute_result",
          "data": {
            "text/plain": [
              "1.08"
            ]
          },
          "metadata": {
            "tags": []
          },
          "execution_count": 186
        }
      ]
    },
    {
      "cell_type": "code",
      "metadata": {
        "id": "qCx8c_ZAWawb"
      },
      "source": [
        "#-----------------------------------------------Ejercicio 2------------------------------------------------------\n",
        "#Con esta función sabemos si configuración inicial tiene un número par de 1s o no\n",
        "def num1sPar(CI):\n",
        "  res=True\n",
        "  for row in CI:\n",
        "    for c in row:\n",
        "      if c==1:\n",
        "        res = not res\n",
        "  return res"
      ],
      "execution_count": 170,
      "outputs": []
    },
    {
      "cell_type": "code",
      "metadata": {
        "id": "I6npwnEVYPkH"
      },
      "source": [
        "#Con esta función obtenemos el valor p, el cual es el porcentaje de 1s para una configuración inicial bidimensional\n",
        "def porcentaje1sBidimensional(CI):\n",
        "  ones=0\n",
        "  for row in CI:\n",
        "    for c in row:\n",
        "      if c==1:\n",
        "        ones = ones+1\n",
        "  p = ones/(len(CI)*len(CI[0]))\n",
        "  return p"
      ],
      "execution_count": 171,
      "outputs": []
    },
    {
      "cell_type": "code",
      "metadata": {
        "id": "DQkXthmdEd2w"
      },
      "source": [
        "#Con este método aplicamos una regla a una configuración inicial un máximo de Tmax veces, si se llega al objetivo se devuelve True\n",
        "def llegarObjEj2(CI,rule):\n",
        "  Tmax = 100 #Máximo número de iteraciones \n",
        "  objTodo1 = num1sPar(CI)\n",
        "  #print(\"Configuración inicial: {0}\".format(CI))\n",
        " \n",
        "  for t in range(Tmax):\n",
        "    next = iteracionAutomataBidimensional(CI,rule)\n",
        "\n",
        "    #print(\"Iteración {0}:\".format(t))\n",
        "    #for i in next:\n",
        "    #  for j in i:\n",
        "    #    print(j, end=\" \")\n",
        "    #  print()\n",
        "    p = porcentaje1sBidimensional(next)\n",
        "    if (objTodo1 and p==1) or (not objTodo1 and p==0): #Comprobamos si se cumple el objetivo\n",
        "      #print(\"Configuración objetivo: alcanzada en {0} paso(s)\".format(t+1))\n",
        "      return True\n",
        "    elif np.array_equal(CI,next): #Si se queda estancado en el mismo estado, se para la ejecución\n",
        "      #print(\"No se ha logrado llegar a la configuración objetivo, el automata se queda atascado en el mismo estado\")\n",
        "      return False\n",
        "    else:\n",
        "      CI = next\n",
        "\n",
        "  #print(\"No se ha logrado llegar a la configuración objetivo en {0} paso(s)\".format(Tmax))\n",
        "  return False"
      ],
      "execution_count": 172,
      "outputs": []
    },
    {
      "cell_type": "code",
      "metadata": {
        "id": "0qcZtuoIZY7k"
      },
      "source": [
        "#Este método permite puntuar una regla como el porcentaje de CIs que lleva al objetivo\n",
        "def valorarReglaEj2(rule,CIs):\n",
        "  val = 0\n",
        "\n",
        "  #Con las siguientes líneas hacemos que reglas como [3,1,4,2] sean [1,3,2,4], siguiendo la definición dada \n",
        "  if rule[0]>rule[1]:\n",
        "    a = rule[0]\n",
        "    rule[0] = rule[1]\n",
        "    rule[1] = a\n",
        "  if rule[2]>rule[3]:\n",
        "    a = rule[2]\n",
        "    rule[2] = rule[3]\n",
        "    rule[3] = a\n",
        "\n",
        "  for CI in CIs:\n",
        "    objTodo1 = num1sPar(CI)\n",
        "    #print(\"P: {0}\".format(p))\n",
        "    if llegarObjEj2(CI,rule):\n",
        "      val = val + 1\n",
        "\n",
        "  valoración = val/len(CIs)\n",
        "  return valoración"
      ],
      "execution_count": 173,
      "outputs": []
    },
    {
      "cell_type": "code",
      "metadata": {
        "id": "O36SM_5haMJo"
      },
      "source": [
        "def funciónObjetivoEj2(rule):\n",
        "  #print(\"Regla: {0}\".format(rule))\n",
        "  return -valorarReglaEj2(rule,CIs)\n",
        "\n",
        "algorithm_param = {'max_num_iteration': 1,\\\n",
        "                   'population_size':20,\\\n",
        "                   'mutation_probability':0.3,\\\n",
        "                   'elit_ratio': 0.05,\\\n",
        "                   'crossover_probability': 0.5,\\\n",
        "                   'parents_portion': 0.3,\\\n",
        "                   'crossover_type':'uniform',\\\n",
        "                   'max_iteration_without_improv':None}\n",
        "\n",
        "bondaries = np.array([[0,8]]*4)#Los genes podrán tener valores entre 0 y 8\n",
        "\n",
        "modelEj2=ga(function=funciónObjetivoEj2,dimension=4,variable_type='int',variable_boundaries=bondaries,algorithm_parameters=algorithm_param,progress_bar=False,convergence_curve=False)"
      ],
      "execution_count": 174,
      "outputs": []
    },
    {
      "cell_type": "code",
      "metadata": {
        "colab": {
          "base_uri": "https://localhost:8080/"
        },
        "id": "4SLwy74JaMsl",
        "outputId": "dc27e069-3d81-408b-ac27-fb677734ab4f"
      },
      "source": [
        "for i in range(3):\n",
        "    CIs = generarCIs2D(30)\n",
        "    modelEj2.run()"
      ],
      "execution_count": 175,
      "outputs": [
        {
          "output_type": "stream",
          "text": [
            "\r The best solution found:\n",
            " [0. 7. 4. 0.]\n",
            "\n",
            " Objective function:\n",
            " -0.9333333333333333\n",
            " The best solution found:\n",
            " [5. 0. 0. 6.]\n",
            "\n",
            " Objective function:\n",
            " -0.9666666666666667\n",
            " The best solution found:\n",
            " [0. 3. 1. 1.]\n",
            "\n",
            " Objective function:\n",
            " -0.9333333333333333\n"
          ],
          "name": "stdout"
        }
      ]
    },
    {
      "cell_type": "code",
      "metadata": {
        "colab": {
          "base_uri": "https://localhost:8080/"
        },
        "id": "0WMs6Zb_ebug",
        "outputId": "60fe35b5-b7d5-4f2d-d1f8-4aed2434f359"
      },
      "source": [
        "#Soluciones: [0,2,0,0] [0,7,1,5] (0.99) [0,6,0,5] [0,6,1,5] [0,6,2,5] [0,8,0,4] (0.98)\n",
        "CIs = generarCIs2D(100)\n",
        "valorarReglaEj2([0,2,0,0],CIs)#Comentar la bonificación al resultado para porcentajes reales"
      ],
      "execution_count": 176,
      "outputs": [
        {
          "output_type": "execute_result",
          "data": {
            "text/plain": [
              "0.99"
            ]
          },
          "metadata": {
            "tags": []
          },
          "execution_count": 176
        }
      ]
    },
    {
      "cell_type": "code",
      "metadata": {
        "id": "1zwqQVEx23y2"
      },
      "source": [
        "#-----------------------------------------------Ejercicio 3------------------------------------------------------\n",
        "#Con esta función sabemos si configuración inicial solo tiene un 1 y todo lo demás a 0\n",
        "def tieneSoloUn1(CI):\n",
        "  res=False\n",
        "  for c in CI:\n",
        "    if res==False and c==1:\n",
        "      res = True\n",
        "    elif c==1:\n",
        "      return False\n",
        "  return res"
      ],
      "execution_count": 177,
      "outputs": []
    },
    {
      "cell_type": "code",
      "metadata": {
        "id": "I_TdUeCmAjGD"
      },
      "source": [
        "#Con este método aplicamos una regla a una configuración inicial un máximo de Tmax veces, si se llega al objetivo se devuelve True\n",
        "def llegarObjEj3(CI,rule):\n",
        "  Tmax = 20 #Máximo número de iteraciones \n",
        "  objTodo1 = tieneSoloUn1(CI)\n",
        "  #print(\"Configuración inicial: {0}\".format(CI))\n",
        " \n",
        "  for t in range(Tmax):\n",
        "    next = iteracionAutomataUnidimensional(CI,rule)\n",
        "\n",
        "    #print(\"Iteración {0}: {1}\".format(t,next))\n",
        "    p = porcentaje1s(next)\n",
        "    if (objTodo1 and p==1) or (not objTodo1 and p==0): #Comprobamos si se cumple el objetivo\n",
        "      #print(\"Configuración objetivo: alcanzada en {0} paso(s)\".format(t+1))\n",
        "      return True\n",
        "    elif np.array_equal(CI,next): #Si se queda estancado en el mismo estado, se para la ejecución\n",
        "      #print(\"No se ha logrado llegar a la configuración objetivo, el automata se queda atascado en el mismo estado\")\n",
        "      return False\n",
        "    else:\n",
        "      CI = next\n",
        "\n",
        "  #print(\"No se ha logrado llegar a la configuración objetivo en {0} paso(s)\".format(Tmax))\n",
        "  return False"
      ],
      "execution_count": 178,
      "outputs": []
    },
    {
      "cell_type": "code",
      "metadata": {
        "id": "u4TFVy2Ae0u9"
      },
      "source": [
        "#Este método permite puntuar una regla como el porcentaje de CIs que lleva al objetivo\n",
        "def valorarReglaEj3(rule,CIs):\n",
        "  val = 0\n",
        "  casoRes = -1\n",
        "  bonificación2Casos = False\n",
        "  for CI in CIs:\n",
        "    objTodo1 = tieneSoloUn1(CI)\n",
        "    #print(\"P: {0}\".format(p))\n",
        "    if llegarObjEj3(CI,rule):\n",
        "      val = val + 1\n",
        "      if casoRes == -1:\n",
        "        if objTodo1:\n",
        "          casoRes = 1\n",
        "        else:\n",
        "          casoRes = 0\n",
        "      else:\n",
        "        if not bonificación2Casos and ((not objTodo1 and casoRes==1) or (objTodo1 and casoRes==0)):\n",
        "          #print(\"Resuelve ambos casos\")\n",
        "          bonificación2Casos = True\n",
        "  valoración = val/len(CIs)\n",
        "  if bonificación2Casos:\n",
        "    return valoración*2  \n",
        "  else:\n",
        "    return valoración"
      ],
      "execution_count": 179,
      "outputs": []
    },
    {
      "cell_type": "code",
      "metadata": {
        "id": "zNHNguMQfiO4"
      },
      "source": [
        "def funciónObjetivoEj3(rule):\n",
        "  #print(\"Regla: {0}\".format(rule))\n",
        "  return -valorarReglaEj3(rule,CIs)\n",
        "\n",
        "algorithm_param = {'max_num_iteration': 1,\\\n",
        "                   'population_size':20,\\\n",
        "                   'mutation_probability':0.3,\\\n",
        "                   'elit_ratio': 0.05,\\\n",
        "                   'crossover_probability': 0.5,\\\n",
        "                   'parents_portion': 0.3,\\\n",
        "                   'crossover_type':'uniform',\\\n",
        "                   'max_iteration_without_improv':None}\n",
        "\n",
        "modelEj3=ga(function=funciónObjetivoEj3,dimension=8,variable_type='bool',algorithm_parameters=algorithm_param,progress_bar=False,convergence_curve=False)"
      ],
      "execution_count": 180,
      "outputs": []
    },
    {
      "cell_type": "code",
      "metadata": {
        "colab": {
          "base_uri": "https://localhost:8080/"
        },
        "id": "kYgHDzJsfv-H",
        "outputId": "7d6d6970-780c-487d-8079-3124205d2c3c"
      },
      "source": [
        "for i in range(5):\n",
        "    CIs = generarCIs(100)\n",
        "    #Aleatoriamente es muy dificil obtener una CI que su objetivo sea llegar a 0, las añadiremos a mano\n",
        "    for k in range(20):\n",
        "      CIs.extend([[0,0,0,1,0,0,0],[1,0,0,0],[0,1,0,0,0],[0,0,0,0,0,0,1],[0,0,0,0,0,0,0,0,0,0,0,0,0,0,0,0,0,0,0,0,0,0,0,0,0,0,0,0,0,0,0,0,0,0,0,0,0,0,0,0,0,0,0,0,0,0,0,0,0,0,0,0,0,0,0,0,0,0,0,0,1]])\n",
        "    modelEj3.run()"
      ],
      "execution_count": 181,
      "outputs": [
        {
          "output_type": "stream",
          "text": [
            "\r The best solution found:\n",
            " [0. 0. 0. 0. 1. 0. 0. 0.]\n",
            "\n",
            " Objective function:\n",
            " -0.5\n",
            " The best solution found:\n",
            " [0. 1. 1. 1. 0. 1. 1. 1.]\n",
            "\n",
            " Objective function:\n",
            " -1.04\n",
            " The best solution found:\n",
            " [0. 1. 1. 1. 1. 1. 1. 1.]\n",
            "\n",
            " Objective function:\n",
            " -1.21\n",
            " The best solution found:\n",
            " [0. 1. 1. 1. 1. 1. 1. 1.]\n",
            "\n",
            " Objective function:\n",
            " -1.27\n",
            " The best solution found:\n",
            " [0. 1. 1. 1. 1. 1. 1. 1.]\n",
            "\n",
            " Objective function:\n",
            " -1.25\n"
          ],
          "name": "stdout"
        }
      ]
    },
    {
      "cell_type": "code",
      "metadata": {
        "colab": {
          "base_uri": "https://localhost:8080/"
        },
        "id": "t-2F7wKJySaV",
        "outputId": "96e52e5e-6719-45b3-b14b-41e0ae7e06dc"
      },
      "source": [
        "#Se encuentran reglas que son solución del problema: [0,1,1,1,1,1,1,1] (0.6) [0,1,0,1,0,1,1,1] [0,0,0,1,1,1,1,1] [0,0,0,1,0,1,0,1] (0.58) [0,0,0,0,0,1,1,1] (0.56)\n",
        "CIs = generarCIs(100)\n",
        "for k in range(20):\n",
        "      CIs.extend([[0,0,0,1,0,0,0],[1,0,0,0],[0,1,0,0,0],[0,0,0,0,0,0,1],[0,0,0,0,0,0,0,0,0,0,0,0,0,0,0,0,0,0,0,0,0,0,0,0,0,0,0,0,0,0,0,0,0,0,0,0,0,0,0,0,0,0,0,0,0,0,0,0,0,0,0,0,0,0,0,0,0,0,0,0,1]])\n",
        "valorarReglaEj3([0,1,1,1,1,1,1,1],CIs)#Comentar la bonificación al resultado para porcentajes reales"
      ],
      "execution_count": 187,
      "outputs": [
        {
          "output_type": "execute_result",
          "data": {
            "text/plain": [
              "1.23"
            ]
          },
          "metadata": {
            "tags": []
          },
          "execution_count": 187
        }
      ]
    }
  ]
}